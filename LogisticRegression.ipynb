{
 "cells": [
  {
   "cell_type": "code",
   "execution_count": 177,
   "metadata": {},
   "outputs": [],
   "source": [
    "import pandas as pd\n",
    "import numpy as np\n",
    "import scipy.stats as stats\n",
    "import seaborn as sns\n",
    "import matplotlib.pyplot as plt\n",
    "\n",
    "plt.rcParams['figure.figsize']=(15,15)\n",
    "\n",
    "tcms = pd.read_csv('tcms_total.csv')"
   ]
  },
  {
   "cell_type": "code",
   "execution_count": 178,
   "metadata": {},
   "outputs": [],
   "source": [
    "tcms[\"ganador\"] = np.where(tcms.artista.isin([\"Angy\", \"Roko\", \"Edurne\", \"Ruth Lorenzo\", \"Blas Cantó\", \"Miquel Fernández\", \"María Villalón\"]), 1, 0)"
   ]
  },
  {
   "cell_type": "code",
   "execution_count": 399,
   "metadata": {},
   "outputs": [],
   "source": [
    "tcms[\"finalista\"] = np.where(tcms.artista.isin([\"Angy\", \"Roko\", \"Edurne\", \"Ruth Lorenzo\", \"Blas Cantó\", \"Miquel Fernández\", \"María Villalón\", \"Santiago Segura I\", \"Julio Iglesias, Jr\", \"Daniel Diges\", \"Arturo Valls\", \"Melody\", \"Xuso Jones\", \"Edu Soto\", \"Pablo Puyol\", \"Rosa López\", \"Lorena Gómez\", \"Lucía Gil\", \"Fran Dieli\", \"Carlos Baute\", \"Soraya Arnelas\"]), 1, 0)"
   ]
  },
  {
   "cell_type": "code",
   "execution_count": 179,
   "metadata": {},
   "outputs": [],
   "source": [
    "tcms.loc[(tcms.artista == 'Santiago Segura') & (tcms.temporada == 1), 'artista'] = 'Santiago Segura I'"
   ]
  },
  {
   "cell_type": "code",
   "execution_count": 180,
   "metadata": {},
   "outputs": [],
   "source": [
    "tcms.loc[(tcms.artista == 'Santiago Segura') & (tcms.temporada == 2), 'artista'] = 'Santiago Segura II'"
   ]
  },
  {
   "cell_type": "code",
   "execution_count": null,
   "metadata": {},
   "outputs": [],
   "source": []
  },
  {
   "cell_type": "code",
   "execution_count": 181,
   "metadata": {},
   "outputs": [],
   "source": [
    "from sklearn.linear_model import LinearRegression, LogisticRegression, Lasso"
   ]
  },
  {
   "cell_type": "code",
   "execution_count": 402,
   "metadata": {},
   "outputs": [],
   "source": [
    "df1 = tcms[tcms.programa < 5][['temporada', 'artista', 'sexo', 'edad', 'categoria', 'ganador', 'finalista', 'programa', 'cancion', 'j1','j2','j3','j4','publico']].melt(id_vars=['temporada', 'artista', 'sexo', 'edad', 'categoria','ganador', 'finalista', 'cancion', 'programa'], value_vars=['j1','j2','j3','j4','publico'], var_name='jurado', value_name='puntuacion')"
   ]
  },
  {
   "cell_type": "code",
   "execution_count": 403,
   "metadata": {},
   "outputs": [
    {
     "data": {
      "text/html": [
       "<div>\n",
       "<style scoped>\n",
       "    .dataframe tbody tr th:only-of-type {\n",
       "        vertical-align: middle;\n",
       "    }\n",
       "\n",
       "    .dataframe tbody tr th {\n",
       "        vertical-align: top;\n",
       "    }\n",
       "\n",
       "    .dataframe thead th {\n",
       "        text-align: right;\n",
       "    }\n",
       "</style>\n",
       "<table border=\"1\" class=\"dataframe\">\n",
       "  <thead>\n",
       "    <tr style=\"text-align: right;\">\n",
       "      <th></th>\n",
       "      <th>temporada</th>\n",
       "      <th>artista</th>\n",
       "      <th>sexo</th>\n",
       "      <th>edad</th>\n",
       "      <th>categoria</th>\n",
       "      <th>ganador</th>\n",
       "      <th>finalista</th>\n",
       "      <th>cancion</th>\n",
       "      <th>programa</th>\n",
       "      <th>jurado</th>\n",
       "      <th>puntuacion</th>\n",
       "    </tr>\n",
       "  </thead>\n",
       "  <tbody>\n",
       "    <tr>\n",
       "      <th>0</th>\n",
       "      <td>1</td>\n",
       "      <td>Angy</td>\n",
       "      <td>F</td>\n",
       "      <td>21</td>\n",
       "      <td>Cantante</td>\n",
       "      <td>1</td>\n",
       "      <td>1</td>\n",
       "      <td>Born This Way, de Lady Gaga</td>\n",
       "      <td>1</td>\n",
       "      <td>j1</td>\n",
       "      <td>12</td>\n",
       "    </tr>\n",
       "    <tr>\n",
       "      <th>1</th>\n",
       "      <td>1</td>\n",
       "      <td>Angy</td>\n",
       "      <td>F</td>\n",
       "      <td>21</td>\n",
       "      <td>Cantante</td>\n",
       "      <td>1</td>\n",
       "      <td>1</td>\n",
       "      <td>Me gustas mucho, de Rocío Dúrcal</td>\n",
       "      <td>2</td>\n",
       "      <td>j1</td>\n",
       "      <td>10</td>\n",
       "    </tr>\n",
       "    <tr>\n",
       "      <th>2</th>\n",
       "      <td>1</td>\n",
       "      <td>Angy</td>\n",
       "      <td>F</td>\n",
       "      <td>21</td>\n",
       "      <td>Cantante</td>\n",
       "      <td>1</td>\n",
       "      <td>1</td>\n",
       "      <td>Only Girl (In the World) de Rihanna</td>\n",
       "      <td>3</td>\n",
       "      <td>j1</td>\n",
       "      <td>9</td>\n",
       "    </tr>\n",
       "    <tr>\n",
       "      <th>3</th>\n",
       "      <td>1</td>\n",
       "      <td>Angy</td>\n",
       "      <td>F</td>\n",
       "      <td>21</td>\n",
       "      <td>Cantante</td>\n",
       "      <td>1</td>\n",
       "      <td>1</td>\n",
       "      <td>Girls Just Want to Have Fun de Cyndi Lauper</td>\n",
       "      <td>4</td>\n",
       "      <td>j1</td>\n",
       "      <td>12</td>\n",
       "    </tr>\n",
       "    <tr>\n",
       "      <th>4</th>\n",
       "      <td>1</td>\n",
       "      <td>Toñi Salazar</td>\n",
       "      <td>F</td>\n",
       "      <td>48</td>\n",
       "      <td>Cantante</td>\n",
       "      <td>0</td>\n",
       "      <td>0</td>\n",
       "      <td>Pena, penita, pena, de Lola Flores</td>\n",
       "      <td>1</td>\n",
       "      <td>j1</td>\n",
       "      <td>10</td>\n",
       "    </tr>\n",
       "  </tbody>\n",
       "</table>\n",
       "</div>"
      ],
      "text/plain": [
       "   temporada       artista sexo  edad categoria  ganador  finalista  \\\n",
       "0          1          Angy    F    21  Cantante        1          1   \n",
       "1          1          Angy    F    21  Cantante        1          1   \n",
       "2          1          Angy    F    21  Cantante        1          1   \n",
       "3          1          Angy    F    21  Cantante        1          1   \n",
       "4          1  Toñi Salazar    F    48  Cantante        0          0   \n",
       "\n",
       "                                       cancion  programa jurado  puntuacion  \n",
       "0                  Born This Way, de Lady Gaga         1     j1          12  \n",
       "1             Me gustas mucho, de Rocío Dúrcal         2     j1          10  \n",
       "2          Only Girl (In the World) de Rihanna         3     j1           9  \n",
       "3  Girls Just Want to Have Fun de Cyndi Lauper         4     j1          12  \n",
       "4           Pena, penita, pena, de Lola Flores         1     j1          10  "
      ]
     },
     "execution_count": 403,
     "metadata": {},
     "output_type": "execute_result"
    }
   ],
   "source": [
    "df1.head()"
   ]
  },
  {
   "cell_type": "code",
   "execution_count": 404,
   "metadata": {},
   "outputs": [
    {
     "data": {
      "text/html": [
       "<div>\n",
       "<style scoped>\n",
       "    .dataframe tbody tr th:only-of-type {\n",
       "        vertical-align: middle;\n",
       "    }\n",
       "\n",
       "    .dataframe tbody tr th {\n",
       "        vertical-align: top;\n",
       "    }\n",
       "\n",
       "    .dataframe thead th {\n",
       "        text-align: right;\n",
       "    }\n",
       "</style>\n",
       "<table border=\"1\" class=\"dataframe\">\n",
       "  <thead>\n",
       "    <tr style=\"text-align: right;\">\n",
       "      <th></th>\n",
       "      <th>artista</th>\n",
       "      <th>temporada</th>\n",
       "      <th>edad</th>\n",
       "      <th>ganador</th>\n",
       "      <th>finalista</th>\n",
       "      <th>programa</th>\n",
       "      <th>puntuacion</th>\n",
       "    </tr>\n",
       "  </thead>\n",
       "  <tbody>\n",
       "    <tr>\n",
       "      <th>0</th>\n",
       "      <td>Adrián Rodríguez</td>\n",
       "      <td>4.0</td>\n",
       "      <td>31.0</td>\n",
       "      <td>0.0</td>\n",
       "      <td>0.0</td>\n",
       "      <td>2.5</td>\n",
       "      <td>9.15</td>\n",
       "    </tr>\n",
       "    <tr>\n",
       "      <th>35</th>\n",
       "      <td>Julio Iglesias, Jr.</td>\n",
       "      <td>1.0</td>\n",
       "      <td>38.0</td>\n",
       "      <td>0.0</td>\n",
       "      <td>0.0</td>\n",
       "      <td>2.5</td>\n",
       "      <td>6.00</td>\n",
       "    </tr>\n",
       "    <tr>\n",
       "      <th>36</th>\n",
       "      <td>La Terremoto de Alcorcón</td>\n",
       "      <td>6.0</td>\n",
       "      <td>47.0</td>\n",
       "      <td>0.0</td>\n",
       "      <td>0.0</td>\n",
       "      <td>2.5</td>\n",
       "      <td>5.85</td>\n",
       "    </tr>\n",
       "    <tr>\n",
       "      <th>37</th>\n",
       "      <td>Llum Barrera</td>\n",
       "      <td>3.0</td>\n",
       "      <td>45.0</td>\n",
       "      <td>0.0</td>\n",
       "      <td>0.0</td>\n",
       "      <td>2.5</td>\n",
       "      <td>7.75</td>\n",
       "    </tr>\n",
       "    <tr>\n",
       "      <th>38</th>\n",
       "      <td>Lorena Gómez</td>\n",
       "      <td>5.0</td>\n",
       "      <td>30.0</td>\n",
       "      <td>0.0</td>\n",
       "      <td>1.0</td>\n",
       "      <td>2.5</td>\n",
       "      <td>9.00</td>\n",
       "    </tr>\n",
       "    <tr>\n",
       "      <th>...</th>\n",
       "      <td>...</td>\n",
       "      <td>...</td>\n",
       "      <td>...</td>\n",
       "      <td>...</td>\n",
       "      <td>...</td>\n",
       "      <td>...</td>\n",
       "      <td>...</td>\n",
       "    </tr>\n",
       "    <tr>\n",
       "      <th>45</th>\n",
       "      <td>María Villalón</td>\n",
       "      <td>7.0</td>\n",
       "      <td>29.0</td>\n",
       "      <td>1.0</td>\n",
       "      <td>1.0</td>\n",
       "      <td>2.5</td>\n",
       "      <td>8.30</td>\n",
       "    </tr>\n",
       "    <tr>\n",
       "      <th>3</th>\n",
       "      <td>Angy</td>\n",
       "      <td>1.0</td>\n",
       "      <td>21.0</td>\n",
       "      <td>1.0</td>\n",
       "      <td>1.0</td>\n",
       "      <td>2.5</td>\n",
       "      <td>7.45</td>\n",
       "    </tr>\n",
       "    <tr>\n",
       "      <th>19</th>\n",
       "      <td>Edurne</td>\n",
       "      <td>3.0</td>\n",
       "      <td>28.0</td>\n",
       "      <td>1.0</td>\n",
       "      <td>1.0</td>\n",
       "      <td>2.5</td>\n",
       "      <td>7.70</td>\n",
       "    </tr>\n",
       "    <tr>\n",
       "      <th>57</th>\n",
       "      <td>Ruth Lorenzo</td>\n",
       "      <td>4.0</td>\n",
       "      <td>37.0</td>\n",
       "      <td>1.0</td>\n",
       "      <td>1.0</td>\n",
       "      <td>2.5</td>\n",
       "      <td>9.45</td>\n",
       "    </tr>\n",
       "    <tr>\n",
       "      <th>49</th>\n",
       "      <td>Miquel Fernández</td>\n",
       "      <td>6.0</td>\n",
       "      <td>37.0</td>\n",
       "      <td>1.0</td>\n",
       "      <td>1.0</td>\n",
       "      <td>2.5</td>\n",
       "      <td>10.50</td>\n",
       "    </tr>\n",
       "  </tbody>\n",
       "</table>\n",
       "<p>70 rows × 7 columns</p>\n",
       "</div>"
      ],
      "text/plain": [
       "                     artista  temporada  edad  ganador  finalista  programa  \\\n",
       "0           Adrián Rodríguez        4.0  31.0      0.0        0.0       2.5   \n",
       "35       Julio Iglesias, Jr.        1.0  38.0      0.0        0.0       2.5   \n",
       "36  La Terremoto de Alcorcón        6.0  47.0      0.0        0.0       2.5   \n",
       "37              Llum Barrera        3.0  45.0      0.0        0.0       2.5   \n",
       "38              Lorena Gómez        5.0  30.0      0.0        1.0       2.5   \n",
       "..                       ...        ...   ...      ...        ...       ...   \n",
       "45            María Villalón        7.0  29.0      1.0        1.0       2.5   \n",
       "3                       Angy        1.0  21.0      1.0        1.0       2.5   \n",
       "19                    Edurne        3.0  28.0      1.0        1.0       2.5   \n",
       "57              Ruth Lorenzo        4.0  37.0      1.0        1.0       2.5   \n",
       "49          Miquel Fernández        6.0  37.0      1.0        1.0       2.5   \n",
       "\n",
       "    puntuacion  \n",
       "0         9.15  \n",
       "35        6.00  \n",
       "36        5.85  \n",
       "37        7.75  \n",
       "38        9.00  \n",
       "..         ...  \n",
       "45        8.30  \n",
       "3         7.45  \n",
       "19        7.70  \n",
       "57        9.45  \n",
       "49       10.50  \n",
       "\n",
       "[70 rows x 7 columns]"
      ]
     },
     "execution_count": 404,
     "metadata": {},
     "output_type": "execute_result"
    }
   ],
   "source": [
    "df1.groupby('artista').mean().reset_index().sort_values('ganador')"
   ]
  },
  {
   "cell_type": "code",
   "execution_count": 405,
   "metadata": {},
   "outputs": [
    {
     "data": {
      "text/plain": [
       "<matplotlib.axes._subplots.AxesSubplot at 0x7f26ad7cc750>"
      ]
     },
     "execution_count": 405,
     "metadata": {},
     "output_type": "execute_result"
    },
    {
     "data": {
      "image/png": "[encoded data removed]",
      "text/plain": [
       "<Figure size 1080x1080 with 1 Axes>"
      ]
     },
     "metadata": {
      "needs_background": "light"
     },
     "output_type": "display_data"
    }
   ],
   "source": [
    "sns.boxplot(data=df1.groupby('artista').mean().reset_index(), x='ganador', y='puntuacion')"
   ]
  },
  {
   "cell_type": "code",
   "execution_count": 406,
   "metadata": {},
   "outputs": [],
   "source": [
    "data = df1.pivot_table(index=['artista', 'temporada', 'sexo', 'edad', 'categoria', 'finalista', 'ganador'], values='puntuacion', columns='programa', aggfunc='sum', fill_value=0).reset_index()"
   ]
  },
  {
   "cell_type": "code",
   "execution_count": 407,
   "metadata": {},
   "outputs": [
    {
     "data": {
      "text/html": [
       "<div>\n",
       "<style scoped>\n",
       "    .dataframe tbody tr th:only-of-type {\n",
       "        vertical-align: middle;\n",
       "    }\n",
       "\n",
       "    .dataframe tbody tr th {\n",
       "        vertical-align: top;\n",
       "    }\n",
       "\n",
       "    .dataframe thead th {\n",
       "        text-align: right;\n",
       "    }\n",
       "</style>\n",
       "<table border=\"1\" class=\"dataframe\">\n",
       "  <thead>\n",
       "    <tr style=\"text-align: right;\">\n",
       "      <th>programa</th>\n",
       "      <th>artista</th>\n",
       "      <th>temporada</th>\n",
       "      <th>sexo</th>\n",
       "      <th>edad</th>\n",
       "      <th>categoria</th>\n",
       "      <th>finalista</th>\n",
       "      <th>ganador</th>\n",
       "      <th>1</th>\n",
       "      <th>2</th>\n",
       "      <th>3</th>\n",
       "      <th>4</th>\n",
       "    </tr>\n",
       "  </thead>\n",
       "  <tbody>\n",
       "    <tr>\n",
       "      <th>0</th>\n",
       "      <td>Adrián Rodríguez</td>\n",
       "      <td>4</td>\n",
       "      <td>M</td>\n",
       "      <td>31</td>\n",
       "      <td>Cantante</td>\n",
       "      <td>0</td>\n",
       "      <td>0</td>\n",
       "      <td>43</td>\n",
       "      <td>46</td>\n",
       "      <td>53</td>\n",
       "      <td>41</td>\n",
       "    </tr>\n",
       "    <tr>\n",
       "      <th>1</th>\n",
       "      <td>Ana Morgade</td>\n",
       "      <td>4</td>\n",
       "      <td>F</td>\n",
       "      <td>40</td>\n",
       "      <td>Humorista</td>\n",
       "      <td>0</td>\n",
       "      <td>0</td>\n",
       "      <td>27</td>\n",
       "      <td>32</td>\n",
       "      <td>33</td>\n",
       "      <td>38</td>\n",
       "    </tr>\n",
       "    <tr>\n",
       "      <th>2</th>\n",
       "      <td>Anabel Alonso</td>\n",
       "      <td>7</td>\n",
       "      <td>F</td>\n",
       "      <td>53</td>\n",
       "      <td>Humorista</td>\n",
       "      <td>0</td>\n",
       "      <td>0</td>\n",
       "      <td>25</td>\n",
       "      <td>30</td>\n",
       "      <td>22</td>\n",
       "      <td>34</td>\n",
       "    </tr>\n",
       "    <tr>\n",
       "      <th>3</th>\n",
       "      <td>Angy</td>\n",
       "      <td>1</td>\n",
       "      <td>F</td>\n",
       "      <td>21</td>\n",
       "      <td>Cantante</td>\n",
       "      <td>1</td>\n",
       "      <td>1</td>\n",
       "      <td>46</td>\n",
       "      <td>32</td>\n",
       "      <td>30</td>\n",
       "      <td>41</td>\n",
       "    </tr>\n",
       "    <tr>\n",
       "      <th>4</th>\n",
       "      <td>Anna Simon</td>\n",
       "      <td>2</td>\n",
       "      <td>F</td>\n",
       "      <td>30</td>\n",
       "      <td>TV</td>\n",
       "      <td>0</td>\n",
       "      <td>0</td>\n",
       "      <td>35</td>\n",
       "      <td>20</td>\n",
       "      <td>32</td>\n",
       "      <td>48</td>\n",
       "    </tr>\n",
       "  </tbody>\n",
       "</table>\n",
       "</div>"
      ],
      "text/plain": [
       "programa           artista  temporada sexo  edad  categoria  finalista  \\\n",
       "0         Adrián Rodríguez          4    M    31   Cantante          0   \n",
       "1              Ana Morgade          4    F    40  Humorista          0   \n",
       "2            Anabel Alonso          7    F    53  Humorista          0   \n",
       "3                     Angy          1    F    21   Cantante          1   \n",
       "4               Anna Simon          2    F    30         TV          0   \n",
       "\n",
       "programa  ganador   1   2   3   4  \n",
       "0               0  43  46  53  41  \n",
       "1               0  27  32  33  38  \n",
       "2               0  25  30  22  34  \n",
       "3               1  46  32  30  41  \n",
       "4               0  35  20  32  48  "
      ]
     },
     "execution_count": 407,
     "metadata": {},
     "output_type": "execute_result"
    }
   ],
   "source": [
    "data.head()"
   ]
  },
  {
   "cell_type": "code",
   "execution_count": 408,
   "metadata": {},
   "outputs": [
    {
     "data": {
      "text/html": [
       "<div>\n",
       "<style scoped>\n",
       "    .dataframe tbody tr th:only-of-type {\n",
       "        vertical-align: middle;\n",
       "    }\n",
       "\n",
       "    .dataframe tbody tr th {\n",
       "        vertical-align: top;\n",
       "    }\n",
       "\n",
       "    .dataframe thead th {\n",
       "        text-align: right;\n",
       "    }\n",
       "</style>\n",
       "<table border=\"1\" class=\"dataframe\">\n",
       "  <thead>\n",
       "    <tr style=\"text-align: right;\">\n",
       "      <th>programa</th>\n",
       "      <th>edad</th>\n",
       "      <th>finalista</th>\n",
       "      <th>1</th>\n",
       "      <th>2</th>\n",
       "      <th>3</th>\n",
       "      <th>4</th>\n",
       "    </tr>\n",
       "  </thead>\n",
       "  <tbody>\n",
       "    <tr>\n",
       "      <th>0</th>\n",
       "      <td>31</td>\n",
       "      <td>0</td>\n",
       "      <td>43</td>\n",
       "      <td>46</td>\n",
       "      <td>53</td>\n",
       "      <td>41</td>\n",
       "    </tr>\n",
       "    <tr>\n",
       "      <th>1</th>\n",
       "      <td>40</td>\n",
       "      <td>0</td>\n",
       "      <td>27</td>\n",
       "      <td>32</td>\n",
       "      <td>33</td>\n",
       "      <td>38</td>\n",
       "    </tr>\n",
       "    <tr>\n",
       "      <th>2</th>\n",
       "      <td>53</td>\n",
       "      <td>0</td>\n",
       "      <td>25</td>\n",
       "      <td>30</td>\n",
       "      <td>22</td>\n",
       "      <td>34</td>\n",
       "    </tr>\n",
       "    <tr>\n",
       "      <th>3</th>\n",
       "      <td>21</td>\n",
       "      <td>1</td>\n",
       "      <td>46</td>\n",
       "      <td>32</td>\n",
       "      <td>30</td>\n",
       "      <td>41</td>\n",
       "    </tr>\n",
       "    <tr>\n",
       "      <th>4</th>\n",
       "      <td>30</td>\n",
       "      <td>0</td>\n",
       "      <td>35</td>\n",
       "      <td>20</td>\n",
       "      <td>32</td>\n",
       "      <td>48</td>\n",
       "    </tr>\n",
       "    <tr>\n",
       "      <th>...</th>\n",
       "      <td>...</td>\n",
       "      <td>...</td>\n",
       "      <td>...</td>\n",
       "      <td>...</td>\n",
       "      <td>...</td>\n",
       "      <td>...</td>\n",
       "    </tr>\n",
       "    <tr>\n",
       "      <th>65</th>\n",
       "      <td>57</td>\n",
       "      <td>0</td>\n",
       "      <td>33</td>\n",
       "      <td>36</td>\n",
       "      <td>37</td>\n",
       "      <td>45</td>\n",
       "    </tr>\n",
       "    <tr>\n",
       "      <th>66</th>\n",
       "      <td>24</td>\n",
       "      <td>1</td>\n",
       "      <td>41</td>\n",
       "      <td>24</td>\n",
       "      <td>43</td>\n",
       "      <td>40</td>\n",
       "    </tr>\n",
       "    <tr>\n",
       "      <th>67</th>\n",
       "      <td>47</td>\n",
       "      <td>0</td>\n",
       "      <td>23</td>\n",
       "      <td>23</td>\n",
       "      <td>37</td>\n",
       "      <td>40</td>\n",
       "    </tr>\n",
       "    <tr>\n",
       "      <th>68</th>\n",
       "      <td>64</td>\n",
       "      <td>0</td>\n",
       "      <td>32</td>\n",
       "      <td>0</td>\n",
       "      <td>17</td>\n",
       "      <td>45</td>\n",
       "    </tr>\n",
       "    <tr>\n",
       "      <th>69</th>\n",
       "      <td>37</td>\n",
       "      <td>0</td>\n",
       "      <td>24</td>\n",
       "      <td>27</td>\n",
       "      <td>30</td>\n",
       "      <td>22</td>\n",
       "    </tr>\n",
       "  </tbody>\n",
       "</table>\n",
       "<p>70 rows × 6 columns</p>\n",
       "</div>"
      ],
      "text/plain": [
       "programa  edad  finalista   1   2   3   4\n",
       "0           31          0  43  46  53  41\n",
       "1           40          0  27  32  33  38\n",
       "2           53          0  25  30  22  34\n",
       "3           21          1  46  32  30  41\n",
       "4           30          0  35  20  32  48\n",
       "..         ...        ...  ..  ..  ..  ..\n",
       "65          57          0  33  36  37  45\n",
       "66          24          1  41  24  43  40\n",
       "67          47          0  23  23  37  40\n",
       "68          64          0  32   0  17  45\n",
       "69          37          0  24  27  30  22\n",
       "\n",
       "[70 rows x 6 columns]"
      ]
     },
     "execution_count": 408,
     "metadata": {},
     "output_type": "execute_result"
    }
   ],
   "source": [
    "data.drop(['ganador', 'temporada'], axis=1).select_dtypes('number')"
   ]
  },
  {
   "cell_type": "code",
   "execution_count": 409,
   "metadata": {},
   "outputs": [],
   "source": [
    "train_data = data[data.temporada < 8]"
   ]
  },
  {
   "cell_type": "code",
   "execution_count": 410,
   "metadata": {},
   "outputs": [],
   "source": [
    "train_data.set_index('artista', inplace=True)"
   ]
  },
  {
   "cell_type": "code",
   "execution_count": 412,
   "metadata": {},
   "outputs": [],
   "source": [
    "from sklearn.preprocessing import StandardScaler\n",
    "scaler = StandardScaler()\n",
    "scaler.fit(train_data.drop(['ganador', 'finalista', 'temporada'], axis=1).select_dtypes('number'))\n",
    "numericals = scaler.transform(train_data.drop(['ganador', 'finalista', 'temporada'], axis=1).select_dtypes('number'))"
   ]
  },
  {
   "cell_type": "code",
   "execution_count": 413,
   "metadata": {},
   "outputs": [],
   "source": [
    "categoricals = pd.get_dummies(train_data[['categoria', 'sexo']], drop_first=True).values"
   ]
  },
  {
   "cell_type": "code",
   "execution_count": 414,
   "metadata": {},
   "outputs": [],
   "source": [
    "X_train = np.concatenate((numericals, categoricals), axis=1)\n",
    "y_train = train_data['finalista']"
   ]
  },
  {
   "cell_type": "code",
   "execution_count": 415,
   "metadata": {},
   "outputs": [],
   "source": [
    "model = LogisticRegression().fit(X_train, y_train)"
   ]
  },
  {
   "cell_type": "code",
   "execution_count": 416,
   "metadata": {},
   "outputs": [
    {
     "data": {
      "text/plain": [
       "0.8032786885245902"
      ]
     },
     "execution_count": 416,
     "metadata": {},
     "output_type": "execute_result"
    }
   ],
   "source": [
    "model.score(X_train, y_train)"
   ]
  },
  {
   "cell_type": "code",
   "execution_count": 417,
   "metadata": {},
   "outputs": [
    {
     "data": {
      "text/plain": [
       "(61, 9)"
      ]
     },
     "execution_count": 417,
     "metadata": {},
     "output_type": "execute_result"
    }
   ],
   "source": [
    "X_train.shape"
   ]
  },
  {
   "cell_type": "code",
   "execution_count": 418,
   "metadata": {},
   "outputs": [
    {
     "data": {
      "text/plain": [
       "(61,)"
      ]
     },
     "execution_count": 418,
     "metadata": {},
     "output_type": "execute_result"
    }
   ],
   "source": [
    "y_train.shape"
   ]
  },
  {
   "cell_type": "code",
   "execution_count": 419,
   "metadata": {},
   "outputs": [],
   "source": [
    "probabilities = model.predict_proba(X_train)"
   ]
  },
  {
   "cell_type": "code",
   "execution_count": 420,
   "metadata": {},
   "outputs": [
    {
     "data": {
      "text/plain": [
       "array([[0.24701652, 0.75298348],\n",
       "       [0.8538572 , 0.1461428 ],\n",
       "       [0.91830989, 0.08169011],\n",
       "       [0.97330368, 0.02669632],\n",
       "       [0.87086951, 0.12913049],\n",
       "       [0.91837831, 0.08162169],\n",
       "       [0.95014211, 0.04985789],\n",
       "       [0.84647607, 0.15352393]])"
      ]
     },
     "execution_count": 420,
     "metadata": {},
     "output_type": "execute_result"
    }
   ],
   "source": [
    "probabilities[train_data.temporada == 1]"
   ]
  },
  {
   "cell_type": "code",
   "execution_count": 421,
   "metadata": {},
   "outputs": [],
   "source": [
    "pred_winner = probabilities[train_data.temporada == 1][:,1].argmax()"
   ]
  },
  {
   "cell_type": "code",
   "execution_count": 422,
   "metadata": {},
   "outputs": [],
   "source": [
    "top3 = probabilities[train_data.temporada == 1][:,1].argsort()[-3:][::-1]"
   ]
  },
  {
   "cell_type": "code",
   "execution_count": 423,
   "metadata": {},
   "outputs": [
    {
     "data": {
      "text/plain": [
       "array([], dtype=int64)"
      ]
     },
     "execution_count": 423,
     "metadata": {},
     "output_type": "execute_result"
    }
   ],
   "source": [
    " probabilities[train_data.temporada == temporada][:,1].argsort()[-3:][::-1]"
   ]
  },
  {
   "cell_type": "code",
   "execution_count": 424,
   "metadata": {},
   "outputs": [
    {
     "name": "stdout",
     "output_type": "stream",
     "text": [
      "Temporada 1:\n",
      "Ganador(a): Angy\n",
      "['Angy', 'Toñi Salazar', 'Carolina Ferre']\n",
      "Temporada 2:\n",
      "Ganador(a): Roko\n",
      "['Roko', 'Daniel Diges', 'Arturo Valls']\n",
      "Temporada 3:\n",
      "Ganador(a): Edurne\n",
      "['Xuso Jones', 'Melody', 'Edurne']\n",
      "Temporada 4:\n",
      "Ganador(a): Ruth Lorenzo\n",
      "['Adrián Rodríguez', 'Ruth Lorenzo', 'Falete']\n",
      "Temporada 5:\n",
      "Ganador(a): Blas Cantó\n",
      "['Blas Cantó', 'Lorena Gómez', 'Beatriz Luengo']\n",
      "Temporada 6:\n",
      "Ganador(a): Miquel Fernández\n",
      "['Lucía Gil', 'Fran Dieli', 'Miquel Fernández']\n",
      "Temporada 7:\n",
      "Ganador(a): María Villalón\n",
      "['Mimi Doblas', 'Soraya Arnelas', 'María Villalón']\n"
     ]
    }
   ],
   "source": [
    "for temporada in range(1,8):\n",
    "    top3 = probabilities[train_data.temporada == temporada][:,1].argsort()[-3:][::-1]\n",
    "    print(f'Temporada {temporada}:')\n",
    "    print(f'Ganador(a): {train_data[(train_data.temporada == temporada) & (train_data.ganador==1)].index.values[0]}')\n",
    "    print(list(train_data[train_data.temporada == temporada].index[top3]))\n",
    "    "
   ]
  },
  {
   "cell_type": "code",
   "execution_count": 364,
   "metadata": {},
   "outputs": [],
   "source": [
    "test_data = data[data.temporada == 8]"
   ]
  },
  {
   "cell_type": "code",
   "execution_count": 365,
   "metadata": {},
   "outputs": [
    {
     "data": {
      "text/plain": [
       "Cantante     6\n",
       "TV           2\n",
       "Humorista    1\n",
       "Name: categoria, dtype: int64"
      ]
     },
     "execution_count": 365,
     "metadata": {},
     "output_type": "execute_result"
    }
   ],
   "source": [
    "test_data.categoria.value_counts()"
   ]
  },
  {
   "cell_type": "code",
   "execution_count": 366,
   "metadata": {},
   "outputs": [
    {
     "data": {
      "text/html": [
       "<div>\n",
       "<style scoped>\n",
       "    .dataframe tbody tr th:only-of-type {\n",
       "        vertical-align: middle;\n",
       "    }\n",
       "\n",
       "    .dataframe tbody tr th {\n",
       "        vertical-align: top;\n",
       "    }\n",
       "\n",
       "    .dataframe thead th {\n",
       "        text-align: right;\n",
       "    }\n",
       "</style>\n",
       "<table border=\"1\" class=\"dataframe\">\n",
       "  <thead>\n",
       "    <tr style=\"text-align: right;\">\n",
       "      <th>programa</th>\n",
       "      <th>artista</th>\n",
       "      <th>temporada</th>\n",
       "      <th>sexo</th>\n",
       "      <th>edad</th>\n",
       "      <th>categoria</th>\n",
       "      <th>ganador</th>\n",
       "      <th>1</th>\n",
       "      <th>2</th>\n",
       "      <th>3</th>\n",
       "      <th>4</th>\n",
       "    </tr>\n",
       "  </thead>\n",
       "  <tbody>\n",
       "    <tr>\n",
       "      <th>7</th>\n",
       "      <td>Belinda Washington</td>\n",
       "      <td>8</td>\n",
       "      <td>F</td>\n",
       "      <td>56</td>\n",
       "      <td>TV</td>\n",
       "      <td>0</td>\n",
       "      <td>23</td>\n",
       "      <td>43</td>\n",
       "      <td>33</td>\n",
       "      <td>23</td>\n",
       "    </tr>\n",
       "    <tr>\n",
       "      <th>13</th>\n",
       "      <td>Cristina Ramos</td>\n",
       "      <td>8</td>\n",
       "      <td>F</td>\n",
       "      <td>42</td>\n",
       "      <td>Cantante</td>\n",
       "      <td>0</td>\n",
       "      <td>52</td>\n",
       "      <td>27</td>\n",
       "      <td>58</td>\n",
       "      <td>52</td>\n",
       "    </tr>\n",
       "    <tr>\n",
       "      <th>20</th>\n",
       "      <td>El Monaguillo</td>\n",
       "      <td>8</td>\n",
       "      <td>M</td>\n",
       "      <td>46</td>\n",
       "      <td>Humorista</td>\n",
       "      <td>0</td>\n",
       "      <td>30</td>\n",
       "      <td>32</td>\n",
       "      <td>21</td>\n",
       "      <td>22</td>\n",
       "    </tr>\n",
       "    <tr>\n",
       "      <th>27</th>\n",
       "      <td>Gemeliers</td>\n",
       "      <td>8</td>\n",
       "      <td>M</td>\n",
       "      <td>21</td>\n",
       "      <td>Cantante</td>\n",
       "      <td>0</td>\n",
       "      <td>38</td>\n",
       "      <td>59</td>\n",
       "      <td>38</td>\n",
       "      <td>46</td>\n",
       "    </tr>\n",
       "    <tr>\n",
       "      <th>30</th>\n",
       "      <td>Jorge González</td>\n",
       "      <td>8</td>\n",
       "      <td>M</td>\n",
       "      <td>31</td>\n",
       "      <td>Cantante</td>\n",
       "      <td>0</td>\n",
       "      <td>58</td>\n",
       "      <td>42</td>\n",
       "      <td>51</td>\n",
       "      <td>41</td>\n",
       "    </tr>\n",
       "    <tr>\n",
       "      <th>43</th>\n",
       "      <td>Mario Vaquerizo</td>\n",
       "      <td>8</td>\n",
       "      <td>M</td>\n",
       "      <td>45</td>\n",
       "      <td>Cantante</td>\n",
       "      <td>0</td>\n",
       "      <td>32</td>\n",
       "      <td>35</td>\n",
       "      <td>44</td>\n",
       "      <td>33</td>\n",
       "    </tr>\n",
       "    <tr>\n",
       "      <th>44</th>\n",
       "      <td>María Isabel</td>\n",
       "      <td>8</td>\n",
       "      <td>F</td>\n",
       "      <td>25</td>\n",
       "      <td>Cantante</td>\n",
       "      <td>0</td>\n",
       "      <td>47</td>\n",
       "      <td>43</td>\n",
       "      <td>29</td>\n",
       "      <td>58</td>\n",
       "    </tr>\n",
       "    <tr>\n",
       "      <th>50</th>\n",
       "      <td>Nerea Rodríguez</td>\n",
       "      <td>8</td>\n",
       "      <td>F</td>\n",
       "      <td>21</td>\n",
       "      <td>Cantante</td>\n",
       "      <td>0</td>\n",
       "      <td>46</td>\n",
       "      <td>51</td>\n",
       "      <td>41</td>\n",
       "      <td>46</td>\n",
       "    </tr>\n",
       "    <tr>\n",
       "      <th>54</th>\n",
       "      <td>Rocío Madrid</td>\n",
       "      <td>8</td>\n",
       "      <td>F</td>\n",
       "      <td>41</td>\n",
       "      <td>TV</td>\n",
       "      <td>0</td>\n",
       "      <td>34</td>\n",
       "      <td>28</td>\n",
       "      <td>45</td>\n",
       "      <td>39</td>\n",
       "    </tr>\n",
       "  </tbody>\n",
       "</table>\n",
       "</div>"
      ],
      "text/plain": [
       "programa             artista  temporada sexo  edad  categoria  ganador   1  \\\n",
       "7         Belinda Washington          8    F    56         TV        0  23   \n",
       "13            Cristina Ramos          8    F    42   Cantante        0  52   \n",
       "20             El Monaguillo          8    M    46  Humorista        0  30   \n",
       "27                 Gemeliers          8    M    21   Cantante        0  38   \n",
       "30            Jorge González          8    M    31   Cantante        0  58   \n",
       "43           Mario Vaquerizo          8    M    45   Cantante        0  32   \n",
       "44              María Isabel          8    F    25   Cantante        0  47   \n",
       "50           Nerea Rodríguez          8    F    21   Cantante        0  46   \n",
       "54              Rocío Madrid          8    F    41         TV        0  34   \n",
       "\n",
       "programa   2   3   4  \n",
       "7         43  33  23  \n",
       "13        27  58  52  \n",
       "20        32  21  22  \n",
       "27        59  38  46  \n",
       "30        42  51  41  \n",
       "43        35  44  33  \n",
       "44        43  29  58  \n",
       "50        51  41  46  \n",
       "54        28  45  39  "
      ]
     },
     "execution_count": 366,
     "metadata": {},
     "output_type": "execute_result"
    }
   ],
   "source": [
    "test_data"
   ]
  },
  {
   "cell_type": "code",
   "execution_count": 367,
   "metadata": {},
   "outputs": [
    {
     "data": {
      "text/html": [
       "<div>\n",
       "<style scoped>\n",
       "    .dataframe tbody tr th:only-of-type {\n",
       "        vertical-align: middle;\n",
       "    }\n",
       "\n",
       "    .dataframe tbody tr th {\n",
       "        vertical-align: top;\n",
       "    }\n",
       "\n",
       "    .dataframe thead th {\n",
       "        text-align: right;\n",
       "    }\n",
       "</style>\n",
       "<table border=\"1\" class=\"dataframe\">\n",
       "  <thead>\n",
       "    <tr style=\"text-align: right;\">\n",
       "      <th></th>\n",
       "      <th>categoria_Humorista</th>\n",
       "      <th>categoria_TV</th>\n",
       "      <th>sexo_M</th>\n",
       "    </tr>\n",
       "  </thead>\n",
       "  <tbody>\n",
       "    <tr>\n",
       "      <th>7</th>\n",
       "      <td>0</td>\n",
       "      <td>1</td>\n",
       "      <td>0</td>\n",
       "    </tr>\n",
       "    <tr>\n",
       "      <th>13</th>\n",
       "      <td>0</td>\n",
       "      <td>0</td>\n",
       "      <td>0</td>\n",
       "    </tr>\n",
       "    <tr>\n",
       "      <th>20</th>\n",
       "      <td>1</td>\n",
       "      <td>0</td>\n",
       "      <td>1</td>\n",
       "    </tr>\n",
       "    <tr>\n",
       "      <th>27</th>\n",
       "      <td>0</td>\n",
       "      <td>0</td>\n",
       "      <td>1</td>\n",
       "    </tr>\n",
       "    <tr>\n",
       "      <th>30</th>\n",
       "      <td>0</td>\n",
       "      <td>0</td>\n",
       "      <td>1</td>\n",
       "    </tr>\n",
       "    <tr>\n",
       "      <th>43</th>\n",
       "      <td>0</td>\n",
       "      <td>0</td>\n",
       "      <td>1</td>\n",
       "    </tr>\n",
       "    <tr>\n",
       "      <th>44</th>\n",
       "      <td>0</td>\n",
       "      <td>0</td>\n",
       "      <td>0</td>\n",
       "    </tr>\n",
       "    <tr>\n",
       "      <th>50</th>\n",
       "      <td>0</td>\n",
       "      <td>0</td>\n",
       "      <td>0</td>\n",
       "    </tr>\n",
       "    <tr>\n",
       "      <th>54</th>\n",
       "      <td>0</td>\n",
       "      <td>1</td>\n",
       "      <td>0</td>\n",
       "    </tr>\n",
       "  </tbody>\n",
       "</table>\n",
       "</div>"
      ],
      "text/plain": [
       "    categoria_Humorista  categoria_TV  sexo_M\n",
       "7                     0             1       0\n",
       "13                    0             0       0\n",
       "20                    1             0       1\n",
       "27                    0             0       1\n",
       "30                    0             0       1\n",
       "43                    0             0       1\n",
       "44                    0             0       0\n",
       "50                    0             0       0\n",
       "54                    0             1       0"
      ]
     },
     "execution_count": 367,
     "metadata": {},
     "output_type": "execute_result"
    }
   ],
   "source": [
    " pd.get_dummies(test_data[[ 'categoria', 'sexo']], drop_first=True)"
   ]
  },
  {
   "cell_type": "code",
   "execution_count": 368,
   "metadata": {},
   "outputs": [
    {
     "data": {
      "text/html": [
       "<div>\n",
       "<style scoped>\n",
       "    .dataframe tbody tr th:only-of-type {\n",
       "        vertical-align: middle;\n",
       "    }\n",
       "\n",
       "    .dataframe tbody tr th {\n",
       "        vertical-align: top;\n",
       "    }\n",
       "\n",
       "    .dataframe thead th {\n",
       "        text-align: right;\n",
       "    }\n",
       "</style>\n",
       "<table border=\"1\" class=\"dataframe\">\n",
       "  <thead>\n",
       "    <tr style=\"text-align: right;\">\n",
       "      <th>programa</th>\n",
       "      <th>artista</th>\n",
       "      <th>temporada</th>\n",
       "      <th>sexo</th>\n",
       "      <th>edad</th>\n",
       "      <th>categoria</th>\n",
       "      <th>ganador</th>\n",
       "      <th>1</th>\n",
       "      <th>2</th>\n",
       "      <th>3</th>\n",
       "      <th>4</th>\n",
       "    </tr>\n",
       "  </thead>\n",
       "  <tbody>\n",
       "    <tr>\n",
       "      <th>7</th>\n",
       "      <td>Belinda Washington</td>\n",
       "      <td>8</td>\n",
       "      <td>F</td>\n",
       "      <td>56</td>\n",
       "      <td>TV</td>\n",
       "      <td>0</td>\n",
       "      <td>23</td>\n",
       "      <td>43</td>\n",
       "      <td>33</td>\n",
       "      <td>23</td>\n",
       "    </tr>\n",
       "    <tr>\n",
       "      <th>13</th>\n",
       "      <td>Cristina Ramos</td>\n",
       "      <td>8</td>\n",
       "      <td>F</td>\n",
       "      <td>42</td>\n",
       "      <td>Cantante</td>\n",
       "      <td>0</td>\n",
       "      <td>52</td>\n",
       "      <td>27</td>\n",
       "      <td>58</td>\n",
       "      <td>52</td>\n",
       "    </tr>\n",
       "    <tr>\n",
       "      <th>20</th>\n",
       "      <td>El Monaguillo</td>\n",
       "      <td>8</td>\n",
       "      <td>M</td>\n",
       "      <td>46</td>\n",
       "      <td>Humorista</td>\n",
       "      <td>0</td>\n",
       "      <td>30</td>\n",
       "      <td>32</td>\n",
       "      <td>21</td>\n",
       "      <td>22</td>\n",
       "    </tr>\n",
       "    <tr>\n",
       "      <th>27</th>\n",
       "      <td>Gemeliers</td>\n",
       "      <td>8</td>\n",
       "      <td>M</td>\n",
       "      <td>21</td>\n",
       "      <td>Cantante</td>\n",
       "      <td>0</td>\n",
       "      <td>38</td>\n",
       "      <td>59</td>\n",
       "      <td>38</td>\n",
       "      <td>46</td>\n",
       "    </tr>\n",
       "    <tr>\n",
       "      <th>30</th>\n",
       "      <td>Jorge González</td>\n",
       "      <td>8</td>\n",
       "      <td>M</td>\n",
       "      <td>31</td>\n",
       "      <td>Cantante</td>\n",
       "      <td>0</td>\n",
       "      <td>58</td>\n",
       "      <td>42</td>\n",
       "      <td>51</td>\n",
       "      <td>41</td>\n",
       "    </tr>\n",
       "    <tr>\n",
       "      <th>43</th>\n",
       "      <td>Mario Vaquerizo</td>\n",
       "      <td>8</td>\n",
       "      <td>M</td>\n",
       "      <td>45</td>\n",
       "      <td>Cantante</td>\n",
       "      <td>0</td>\n",
       "      <td>32</td>\n",
       "      <td>35</td>\n",
       "      <td>44</td>\n",
       "      <td>33</td>\n",
       "    </tr>\n",
       "    <tr>\n",
       "      <th>44</th>\n",
       "      <td>María Isabel</td>\n",
       "      <td>8</td>\n",
       "      <td>F</td>\n",
       "      <td>25</td>\n",
       "      <td>Cantante</td>\n",
       "      <td>0</td>\n",
       "      <td>47</td>\n",
       "      <td>43</td>\n",
       "      <td>29</td>\n",
       "      <td>58</td>\n",
       "    </tr>\n",
       "    <tr>\n",
       "      <th>50</th>\n",
       "      <td>Nerea Rodríguez</td>\n",
       "      <td>8</td>\n",
       "      <td>F</td>\n",
       "      <td>21</td>\n",
       "      <td>Cantante</td>\n",
       "      <td>0</td>\n",
       "      <td>46</td>\n",
       "      <td>51</td>\n",
       "      <td>41</td>\n",
       "      <td>46</td>\n",
       "    </tr>\n",
       "    <tr>\n",
       "      <th>54</th>\n",
       "      <td>Rocío Madrid</td>\n",
       "      <td>8</td>\n",
       "      <td>F</td>\n",
       "      <td>41</td>\n",
       "      <td>TV</td>\n",
       "      <td>0</td>\n",
       "      <td>34</td>\n",
       "      <td>28</td>\n",
       "      <td>45</td>\n",
       "      <td>39</td>\n",
       "    </tr>\n",
       "  </tbody>\n",
       "</table>\n",
       "</div>"
      ],
      "text/plain": [
       "programa             artista  temporada sexo  edad  categoria  ganador   1  \\\n",
       "7         Belinda Washington          8    F    56         TV        0  23   \n",
       "13            Cristina Ramos          8    F    42   Cantante        0  52   \n",
       "20             El Monaguillo          8    M    46  Humorista        0  30   \n",
       "27                 Gemeliers          8    M    21   Cantante        0  38   \n",
       "30            Jorge González          8    M    31   Cantante        0  58   \n",
       "43           Mario Vaquerizo          8    M    45   Cantante        0  32   \n",
       "44              María Isabel          8    F    25   Cantante        0  47   \n",
       "50           Nerea Rodríguez          8    F    21   Cantante        0  46   \n",
       "54              Rocío Madrid          8    F    41         TV        0  34   \n",
       "\n",
       "programa   2   3   4  \n",
       "7         43  33  23  \n",
       "13        27  58  52  \n",
       "20        32  21  22  \n",
       "27        59  38  46  \n",
       "30        42  51  41  \n",
       "43        35  44  33  \n",
       "44        43  29  58  \n",
       "50        51  41  46  \n",
       "54        28  45  39  "
      ]
     },
     "execution_count": 368,
     "metadata": {},
     "output_type": "execute_result"
    }
   ],
   "source": [
    "test_data"
   ]
  },
  {
   "cell_type": "code",
   "execution_count": 369,
   "metadata": {},
   "outputs": [],
   "source": [
    "categoricals = pd.get_dummies(test_data[['sexo', 'categoria']], drop_first=True).values"
   ]
  },
  {
   "cell_type": "code",
   "execution_count": 377,
   "metadata": {},
   "outputs": [
    {
     "data": {
      "text/plain": [
       "array([[0.],\n",
       "       [0.],\n",
       "       [0.],\n",
       "       [0.],\n",
       "       [0.],\n",
       "       [0.],\n",
       "       [0.],\n",
       "       [0.],\n",
       "       [0.]])"
      ]
     },
     "execution_count": 377,
     "metadata": {},
     "output_type": "execute_result"
    }
   ],
   "source": [
    "np.zeros((categoricals.shape[0],1))"
   ]
  },
  {
   "cell_type": "code",
   "execution_count": 371,
   "metadata": {},
   "outputs": [],
   "source": [
    "numericals = scaler.transform(test_data.drop(['ganador', 'temporada'], axis=1).select_dtypes('number'))"
   ]
  },
  {
   "cell_type": "code",
   "execution_count": 380,
   "metadata": {},
   "outputs": [],
   "source": [
    "X_test = np.concatenate((np.zeros((categoricals.shape[0],1)), numericals, categoricals), axis=1)"
   ]
  },
  {
   "cell_type": "code",
   "execution_count": 382,
   "metadata": {},
   "outputs": [],
   "source": [
    "probabilities = model.predict_proba(X_test)"
   ]
  },
  {
   "cell_type": "code",
   "execution_count": 383,
   "metadata": {},
   "outputs": [
    {
     "data": {
      "text/plain": [
       "array([[0.86053067, 0.13946933],\n",
       "       [0.94101113, 0.05898887],\n",
       "       [0.95972494, 0.04027506],\n",
       "       [0.98369197, 0.01630803],\n",
       "       [0.96996908, 0.03003092],\n",
       "       [0.94259191, 0.05740809],\n",
       "       [0.98231534, 0.01768466],\n",
       "       [0.9808052 , 0.0191948 ],\n",
       "       [0.9607718 , 0.0392282 ]])"
      ]
     },
     "execution_count": 383,
     "metadata": {},
     "output_type": "execute_result"
    }
   ],
   "source": [
    "probabilities"
   ]
  },
  {
   "cell_type": "code",
   "execution_count": 394,
   "metadata": {},
   "outputs": [],
   "source": [
    "test_data.set_index('artista', inplace=True)"
   ]
  },
  {
   "cell_type": "code",
   "execution_count": 397,
   "metadata": {},
   "outputs": [
    {
     "data": {
      "text/plain": [
       "array([[0.86053067, 0.13946933],\n",
       "       [0.94101113, 0.05898887],\n",
       "       [0.95972494, 0.04027506],\n",
       "       [0.98369197, 0.01630803],\n",
       "       [0.96996908, 0.03003092],\n",
       "       [0.94259191, 0.05740809],\n",
       "       [0.98231534, 0.01768466],\n",
       "       [0.9808052 , 0.0191948 ],\n",
       "       [0.9607718 , 0.0392282 ]])"
      ]
     },
     "execution_count": 397,
     "metadata": {},
     "output_type": "execute_result"
    }
   ],
   "source": [
    "probabilities"
   ]
  },
  {
   "cell_type": "code",
   "execution_count": 398,
   "metadata": {},
   "outputs": [
    {
     "name": "stdout",
     "output_type": "stream",
     "text": [
      "Temporada 8:\n",
      "['Belinda Washington', 'Cristina Ramos', 'Mario Vaquerizo']\n"
     ]
    }
   ],
   "source": [
    "temporada = 8\n",
    "top3 = probabilities[:,1].argsort()[-3:][::-1]\n",
    "print(f'Temporada {temporada}:')\n",
    "print(list(test_data.index[top3]))"
   ]
  },
  {
   "cell_type": "code",
   "execution_count": null,
   "metadata": {},
   "outputs": [],
   "source": []
  },
  {
   "cell_type": "code",
   "execution_count": 206,
   "metadata": {},
   "outputs": [],
   "source": [
    "from sklearn.decomposition import PCA\n",
    "pca = PCA(n_components=2)\n",
    "principalComponents = pca.fit_transform(x)\n",
    "principalDf = pd.DataFrame(data = principalComponents\n",
    "             , columns = ['principal component 1', 'principal component 2'])"
   ]
  },
  {
   "cell_type": "code",
   "execution_count": 207,
   "metadata": {},
   "outputs": [],
   "source": [
    "principalDf['artista'] = train_data.index"
   ]
  },
  {
   "cell_type": "code",
   "execution_count": 208,
   "metadata": {},
   "outputs": [],
   "source": [
    "principalDf['ganador'] = y_train.values"
   ]
  },
  {
   "cell_type": "code",
   "execution_count": 210,
   "metadata": {},
   "outputs": [
    {
     "data": {
      "text/plain": [
       "<matplotlib.axes._subplots.AxesSubplot at 0x7f26adafefd0>"
      ]
     },
     "execution_count": 210,
     "metadata": {},
     "output_type": "execute_result"
    },
    {
     "data": {
      "image/png": "[encoded data removed]",
      "text/plain": [
       "<Figure size 1080x1080 with 1 Axes>"
      ]
     },
     "metadata": {
      "needs_background": "light"
     },
     "output_type": "display_data"
    }
   ],
   "source": [
    "sns.scatterplot(data=principalDf, x='principal component 1', y= 'principal component 2', hue='ganador')"
   ]
  },
  {
   "cell_type": "code",
   "execution_count": 209,
   "metadata": {},
   "outputs": [],
   "source": [
    "def scatter_text(data, x, y, label, hue, title=None, xlabel=None, ylabel=None):\n",
    "    \"\"\"Scatter plot with country codes on the x y coordinates\n",
    "       Based on this answer: https://stackoverflow.com/a/54789170/2641825\"\"\"\n",
    "    # Create the scatter plot\n",
    "    p1 = sns.scatterplot(x, y, data=data, hue= hue, size = 8, legend=False)\n",
    "    # Add text besides each point\n",
    "    for line in range(0,data.shape[0]):\n",
    "         p1.text(data[x][line]+0.01, data[y][line], \n",
    "                 data[label][line], horizontalalignment='left', \n",
    "                 size='medium', color='black', weight='semibold')\n",
    "    # Set title and axis labels\n",
    "    #plt.title(title)\n",
    "    #plt.xlabel(xlabel)\n",
    "    #plt.ylabel(ylabel)\n",
    "    return p1"
   ]
  },
  {
   "cell_type": "code",
   "execution_count": 211,
   "metadata": {},
   "outputs": [
    {
     "data": {
      "text/plain": [
       "<matplotlib.axes._subplots.AxesSubplot at 0x7f26ada7b050>"
      ]
     },
     "execution_count": 211,
     "metadata": {},
     "output_type": "execute_result"
    },
    {
     "data": {
      "image/png": "[encoded data removed]",
      "text/plain": [
       "<Figure size 1080x1080 with 1 Axes>"
      ]
     },
     "metadata": {
      "needs_background": "light"
     },
     "output_type": "display_data"
    }
   ],
   "source": [
    "scatter_text(data=principalDf, x='principal component 1', y= 'principal component 2', label='artista', hue='ganador')"
   ]
  },
  {
   "cell_type": "code",
   "execution_count": 212,
   "metadata": {},
   "outputs": [],
   "source": [
    "from sklearn.metrics import confusion_matrix"
   ]
  },
  {
   "cell_type": "code",
   "execution_count": 213,
   "metadata": {},
   "outputs": [
    {
     "data": {
      "text/plain": [
       "array([[53,  1],\n",
       "       [ 7,  0]])"
      ]
     },
     "execution_count": 213,
     "metadata": {},
     "output_type": "execute_result"
    }
   ],
   "source": [
    "confusion_matrix(y_train, model.predict(X_train))"
   ]
  },
  {
   "cell_type": "code",
   "execution_count": 93,
   "metadata": {},
   "outputs": [],
   "source": [
    "X_test = data[data.temporada == 7][[1,2,3]]"
   ]
  },
  {
   "cell_type": "code",
   "execution_count": 94,
   "metadata": {},
   "outputs": [
    {
     "data": {
      "text/plain": [
       "9"
      ]
     },
     "execution_count": 94,
     "metadata": {},
     "output_type": "execute_result"
    }
   ],
   "source": [
    "len(X_test)"
   ]
  },
  {
   "cell_type": "code",
   "execution_count": 48,
   "metadata": {},
   "outputs": [
    {
     "ename": "NameError",
     "evalue": "name 'X_test' is not defined",
     "output_type": "error",
     "traceback": [
      "\u001b[0;31m---------------------------------------------------------------------------\u001b[0m",
      "\u001b[0;31mNameError\u001b[0m                                 Traceback (most recent call last)",
      "\u001b[0;32m<ipython-input-48-18d2789c0e8a>\u001b[0m in \u001b[0;36m<module>\u001b[0;34m\u001b[0m\n\u001b[0;32m----> 1\u001b[0;31m \u001b[0my_pred\u001b[0m \u001b[0;34m=\u001b[0m \u001b[0mmodel\u001b[0m\u001b[0;34m.\u001b[0m\u001b[0mpredict_proba\u001b[0m\u001b[0;34m(\u001b[0m\u001b[0mX_test\u001b[0m\u001b[0;34m)\u001b[0m\u001b[0;34m\u001b[0m\u001b[0;34m\u001b[0m\u001b[0m\n\u001b[0m",
      "\u001b[0;31mNameError\u001b[0m: name 'X_test' is not defined"
     ]
    }
   ],
   "source": [
    "y_pred = model.predict_proba(X_test)"
   ]
  },
  {
   "cell_type": "code",
   "execution_count": 96,
   "metadata": {},
   "outputs": [
    {
     "data": {
      "text/html": [
       "<div>\n",
       "<style scoped>\n",
       "    .dataframe tbody tr th:only-of-type {\n",
       "        vertical-align: middle;\n",
       "    }\n",
       "\n",
       "    .dataframe tbody tr th {\n",
       "        vertical-align: top;\n",
       "    }\n",
       "\n",
       "    .dataframe thead th {\n",
       "        text-align: right;\n",
       "    }\n",
       "</style>\n",
       "<table border=\"1\" class=\"dataframe\">\n",
       "  <thead>\n",
       "    <tr style=\"text-align: right;\">\n",
       "      <th>programa</th>\n",
       "      <th>1</th>\n",
       "      <th>2</th>\n",
       "      <th>3</th>\n",
       "    </tr>\n",
       "    <tr>\n",
       "      <th>artista</th>\n",
       "      <th></th>\n",
       "      <th></th>\n",
       "      <th></th>\n",
       "    </tr>\n",
       "  </thead>\n",
       "  <tbody>\n",
       "    <tr>\n",
       "      <th>Soraya Arnelas</th>\n",
       "      <td>11.6</td>\n",
       "      <td>9.6</td>\n",
       "      <td>8.4</td>\n",
       "    </tr>\n",
       "  </tbody>\n",
       "</table>\n",
       "</div>"
      ],
      "text/plain": [
       "programa           1    2    3\n",
       "artista                       \n",
       "Soraya Arnelas  11.6  9.6  8.4"
      ]
     },
     "execution_count": 96,
     "metadata": {},
     "output_type": "execute_result"
    }
   ],
   "source": [
    "X_test[y_pred == 1]"
   ]
  },
  {
   "cell_type": "code",
   "execution_count": 99,
   "metadata": {},
   "outputs": [
    {
     "data": {
      "text/html": [
       "<div>\n",
       "<style scoped>\n",
       "    .dataframe tbody tr th:only-of-type {\n",
       "        vertical-align: middle;\n",
       "    }\n",
       "\n",
       "    .dataframe tbody tr th {\n",
       "        vertical-align: top;\n",
       "    }\n",
       "\n",
       "    .dataframe thead th {\n",
       "        text-align: right;\n",
       "    }\n",
       "</style>\n",
       "<table border=\"1\" class=\"dataframe\">\n",
       "  <thead>\n",
       "    <tr style=\"text-align: right;\">\n",
       "      <th>programa</th>\n",
       "      <th>temporada</th>\n",
       "      <th>ganador</th>\n",
       "      <th>1</th>\n",
       "      <th>2</th>\n",
       "      <th>3</th>\n",
       "    </tr>\n",
       "    <tr>\n",
       "      <th>artista</th>\n",
       "      <th></th>\n",
       "      <th></th>\n",
       "      <th></th>\n",
       "      <th></th>\n",
       "      <th></th>\n",
       "    </tr>\n",
       "  </thead>\n",
       "  <tbody>\n",
       "    <tr>\n",
       "      <th>Adrián Rodríguez</th>\n",
       "      <td>4</td>\n",
       "      <td>0</td>\n",
       "      <td>8.6</td>\n",
       "      <td>9.2</td>\n",
       "      <td>10.6</td>\n",
       "    </tr>\n",
       "    <tr>\n",
       "      <th>Ana Morgade</th>\n",
       "      <td>4</td>\n",
       "      <td>0</td>\n",
       "      <td>5.4</td>\n",
       "      <td>6.4</td>\n",
       "      <td>6.6</td>\n",
       "    </tr>\n",
       "    <tr>\n",
       "      <th>Anabel Alonso</th>\n",
       "      <td>7</td>\n",
       "      <td>0</td>\n",
       "      <td>5.0</td>\n",
       "      <td>6.0</td>\n",
       "      <td>4.4</td>\n",
       "    </tr>\n",
       "    <tr>\n",
       "      <th>Angy</th>\n",
       "      <td>1</td>\n",
       "      <td>1</td>\n",
       "      <td>9.2</td>\n",
       "      <td>6.4</td>\n",
       "      <td>6.0</td>\n",
       "    </tr>\n",
       "    <tr>\n",
       "      <th>Anna Simon</th>\n",
       "      <td>2</td>\n",
       "      <td>0</td>\n",
       "      <td>7.0</td>\n",
       "      <td>4.0</td>\n",
       "      <td>6.4</td>\n",
       "    </tr>\n",
       "  </tbody>\n",
       "</table>\n",
       "</div>"
      ],
      "text/plain": [
       "programa          temporada  ganador    1    2     3\n",
       "artista                                             \n",
       "Adrián Rodríguez          4        0  8.6  9.2  10.6\n",
       "Ana Morgade               4        0  5.4  6.4   6.6\n",
       "Anabel Alonso             7        0  5.0  6.0   4.4\n",
       "Angy                      1        1  9.2  6.4   6.0\n",
       "Anna Simon                2        0  7.0  4.0   6.4"
      ]
     },
     "execution_count": 99,
     "metadata": {},
     "output_type": "execute_result"
    }
   ],
   "source": [
    "data.head()"
   ]
  },
  {
   "cell_type": "code",
   "execution_count": null,
   "metadata": {},
   "outputs": [],
   "source": []
  },
  {
   "cell_type": "code",
   "execution_count": 98,
   "metadata": {},
   "outputs": [
    {
     "name": "stdout",
     "output_type": "stream",
     "text": [
      "0.9032258064516129\n"
     ]
    },
    {
     "data": {
      "text/html": [
       "<div>\n",
       "<style scoped>\n",
       "    .dataframe tbody tr th:only-of-type {\n",
       "        vertical-align: middle;\n",
       "    }\n",
       "\n",
       "    .dataframe tbody tr th {\n",
       "        vertical-align: top;\n",
       "    }\n",
       "\n",
       "    .dataframe thead th {\n",
       "        text-align: right;\n",
       "    }\n",
       "</style>\n",
       "<table border=\"1\" class=\"dataframe\">\n",
       "  <thead>\n",
       "    <tr style=\"text-align: right;\">\n",
       "      <th>programa</th>\n",
       "      <th>1</th>\n",
       "      <th>2</th>\n",
       "      <th>3</th>\n",
       "    </tr>\n",
       "    <tr>\n",
       "      <th>artista</th>\n",
       "      <th></th>\n",
       "      <th></th>\n",
       "      <th></th>\n",
       "    </tr>\n",
       "  </thead>\n",
       "  <tbody>\n",
       "  </tbody>\n",
       "</table>\n",
       "</div>"
      ],
      "text/plain": [
       "Empty DataFrame\n",
       "Columns: [1, 2, 3]\n",
       "Index: []"
      ]
     },
     "metadata": {},
     "output_type": "display_data"
    },
    {
     "name": "stdout",
     "output_type": "stream",
     "text": [
      "0.9032258064516129\n"
     ]
    },
    {
     "data": {
      "text/html": [
       "<div>\n",
       "<style scoped>\n",
       "    .dataframe tbody tr th:only-of-type {\n",
       "        vertical-align: middle;\n",
       "    }\n",
       "\n",
       "    .dataframe tbody tr th {\n",
       "        vertical-align: top;\n",
       "    }\n",
       "\n",
       "    .dataframe thead th {\n",
       "        text-align: right;\n",
       "    }\n",
       "</style>\n",
       "<table border=\"1\" class=\"dataframe\">\n",
       "  <thead>\n",
       "    <tr style=\"text-align: right;\">\n",
       "      <th>programa</th>\n",
       "      <th>1</th>\n",
       "      <th>2</th>\n",
       "      <th>3</th>\n",
       "    </tr>\n",
       "    <tr>\n",
       "      <th>artista</th>\n",
       "      <th></th>\n",
       "      <th></th>\n",
       "      <th></th>\n",
       "    </tr>\n",
       "  </thead>\n",
       "  <tbody>\n",
       "  </tbody>\n",
       "</table>\n",
       "</div>"
      ],
      "text/plain": [
       "Empty DataFrame\n",
       "Columns: [1, 2, 3]\n",
       "Index: []"
      ]
     },
     "metadata": {},
     "output_type": "display_data"
    },
    {
     "name": "stdout",
     "output_type": "stream",
     "text": [
      "0.9016393442622951\n"
     ]
    },
    {
     "data": {
      "text/html": [
       "<div>\n",
       "<style scoped>\n",
       "    .dataframe tbody tr th:only-of-type {\n",
       "        vertical-align: middle;\n",
       "    }\n",
       "\n",
       "    .dataframe tbody tr th {\n",
       "        vertical-align: top;\n",
       "    }\n",
       "\n",
       "    .dataframe thead th {\n",
       "        text-align: right;\n",
       "    }\n",
       "</style>\n",
       "<table border=\"1\" class=\"dataframe\">\n",
       "  <thead>\n",
       "    <tr style=\"text-align: right;\">\n",
       "      <th>programa</th>\n",
       "      <th>1</th>\n",
       "      <th>2</th>\n",
       "      <th>3</th>\n",
       "    </tr>\n",
       "    <tr>\n",
       "      <th>artista</th>\n",
       "      <th></th>\n",
       "      <th></th>\n",
       "      <th></th>\n",
       "    </tr>\n",
       "  </thead>\n",
       "  <tbody>\n",
       "  </tbody>\n",
       "</table>\n",
       "</div>"
      ],
      "text/plain": [
       "Empty DataFrame\n",
       "Columns: [1, 2, 3]\n",
       "Index: []"
      ]
     },
     "metadata": {},
     "output_type": "display_data"
    },
    {
     "name": "stdout",
     "output_type": "stream",
     "text": [
      "0.9016393442622951\n"
     ]
    },
    {
     "data": {
      "text/html": [
       "<div>\n",
       "<style scoped>\n",
       "    .dataframe tbody tr th:only-of-type {\n",
       "        vertical-align: middle;\n",
       "    }\n",
       "\n",
       "    .dataframe tbody tr th {\n",
       "        vertical-align: top;\n",
       "    }\n",
       "\n",
       "    .dataframe thead th {\n",
       "        text-align: right;\n",
       "    }\n",
       "</style>\n",
       "<table border=\"1\" class=\"dataframe\">\n",
       "  <thead>\n",
       "    <tr style=\"text-align: right;\">\n",
       "      <th>programa</th>\n",
       "      <th>1</th>\n",
       "      <th>2</th>\n",
       "      <th>3</th>\n",
       "    </tr>\n",
       "    <tr>\n",
       "      <th>artista</th>\n",
       "      <th></th>\n",
       "      <th></th>\n",
       "      <th></th>\n",
       "    </tr>\n",
       "  </thead>\n",
       "  <tbody>\n",
       "  </tbody>\n",
       "</table>\n",
       "</div>"
      ],
      "text/plain": [
       "Empty DataFrame\n",
       "Columns: [1, 2, 3]\n",
       "Index: []"
      ]
     },
     "metadata": {},
     "output_type": "display_data"
    },
    {
     "name": "stdout",
     "output_type": "stream",
     "text": [
      "0.9016393442622951\n"
     ]
    },
    {
     "data": {
      "text/html": [
       "<div>\n",
       "<style scoped>\n",
       "    .dataframe tbody tr th:only-of-type {\n",
       "        vertical-align: middle;\n",
       "    }\n",
       "\n",
       "    .dataframe tbody tr th {\n",
       "        vertical-align: top;\n",
       "    }\n",
       "\n",
       "    .dataframe thead th {\n",
       "        text-align: right;\n",
       "    }\n",
       "</style>\n",
       "<table border=\"1\" class=\"dataframe\">\n",
       "  <thead>\n",
       "    <tr style=\"text-align: right;\">\n",
       "      <th>programa</th>\n",
       "      <th>1</th>\n",
       "      <th>2</th>\n",
       "      <th>3</th>\n",
       "    </tr>\n",
       "    <tr>\n",
       "      <th>artista</th>\n",
       "      <th></th>\n",
       "      <th></th>\n",
       "      <th></th>\n",
       "    </tr>\n",
       "  </thead>\n",
       "  <tbody>\n",
       "  </tbody>\n",
       "</table>\n",
       "</div>"
      ],
      "text/plain": [
       "Empty DataFrame\n",
       "Columns: [1, 2, 3]\n",
       "Index: []"
      ]
     },
     "metadata": {},
     "output_type": "display_data"
    },
    {
     "name": "stdout",
     "output_type": "stream",
     "text": [
      "0.9016393442622951\n"
     ]
    },
    {
     "data": {
      "text/html": [
       "<div>\n",
       "<style scoped>\n",
       "    .dataframe tbody tr th:only-of-type {\n",
       "        vertical-align: middle;\n",
       "    }\n",
       "\n",
       "    .dataframe tbody tr th {\n",
       "        vertical-align: top;\n",
       "    }\n",
       "\n",
       "    .dataframe thead th {\n",
       "        text-align: right;\n",
       "    }\n",
       "</style>\n",
       "<table border=\"1\" class=\"dataframe\">\n",
       "  <thead>\n",
       "    <tr style=\"text-align: right;\">\n",
       "      <th>programa</th>\n",
       "      <th>1</th>\n",
       "      <th>2</th>\n",
       "      <th>3</th>\n",
       "    </tr>\n",
       "    <tr>\n",
       "      <th>artista</th>\n",
       "      <th></th>\n",
       "      <th></th>\n",
       "      <th></th>\n",
       "    </tr>\n",
       "  </thead>\n",
       "  <tbody>\n",
       "  </tbody>\n",
       "</table>\n",
       "</div>"
      ],
      "text/plain": [
       "Empty DataFrame\n",
       "Columns: [1, 2, 3]\n",
       "Index: []"
      ]
     },
     "metadata": {},
     "output_type": "display_data"
    },
    {
     "name": "stdout",
     "output_type": "stream",
     "text": [
      "0.9016393442622951\n"
     ]
    },
    {
     "data": {
      "text/html": [
       "<div>\n",
       "<style scoped>\n",
       "    .dataframe tbody tr th:only-of-type {\n",
       "        vertical-align: middle;\n",
       "    }\n",
       "\n",
       "    .dataframe tbody tr th {\n",
       "        vertical-align: top;\n",
       "    }\n",
       "\n",
       "    .dataframe thead th {\n",
       "        text-align: right;\n",
       "    }\n",
       "</style>\n",
       "<table border=\"1\" class=\"dataframe\">\n",
       "  <thead>\n",
       "    <tr style=\"text-align: right;\">\n",
       "      <th>programa</th>\n",
       "      <th>1</th>\n",
       "      <th>2</th>\n",
       "      <th>3</th>\n",
       "    </tr>\n",
       "    <tr>\n",
       "      <th>artista</th>\n",
       "      <th></th>\n",
       "      <th></th>\n",
       "      <th></th>\n",
       "    </tr>\n",
       "  </thead>\n",
       "  <tbody>\n",
       "  </tbody>\n",
       "</table>\n",
       "</div>"
      ],
      "text/plain": [
       "Empty DataFrame\n",
       "Columns: [1, 2, 3]\n",
       "Index: []"
      ]
     },
     "metadata": {},
     "output_type": "display_data"
    }
   ],
   "source": [
    "for temporada in range(1,8):\n",
    "    X_train = data[data.temporada != temporada][[1,2,3]]\n",
    "    y_train = data[data.temporada != temporada]['ganador']\n",
    "    model = LogisticRegression().fit(X_train, y_train)\n",
    "    print(model.score(X_train, y_train))\n",
    "    X_test = data[data.temporada == temporada][[1,2,3]]\n",
    "    y_pred = model.predict(X_test)\n",
    "    \n",
    "    display(X_test[y_pred == 1])"
   ]
  },
  {
   "cell_type": "code",
   "execution_count": 79,
   "metadata": {},
   "outputs": [
    {
     "data": {
      "text/html": [
       "<div>\n",
       "<style scoped>\n",
       "    .dataframe tbody tr th:only-of-type {\n",
       "        vertical-align: middle;\n",
       "    }\n",
       "\n",
       "    .dataframe tbody tr th {\n",
       "        vertical-align: top;\n",
       "    }\n",
       "\n",
       "    .dataframe thead th {\n",
       "        text-align: right;\n",
       "    }\n",
       "</style>\n",
       "<table border=\"1\" class=\"dataframe\">\n",
       "  <thead>\n",
       "    <tr style=\"text-align: right;\">\n",
       "      <th></th>\n",
       "      <th>temporada</th>\n",
       "      <th>programa</th>\n",
       "      <th>cancion</th>\n",
       "      <th>artista</th>\n",
       "      <th>j1</th>\n",
       "      <th>j2</th>\n",
       "      <th>j3</th>\n",
       "      <th>j4</th>\n",
       "      <th>publico</th>\n",
       "      <th>bonus</th>\n",
       "      <th>...</th>\n",
       "      <th>titulo</th>\n",
       "      <th>autor</th>\n",
       "      <th>especiales</th>\n",
       "      <th>pais</th>\n",
       "      <th>region</th>\n",
       "      <th>ciudad</th>\n",
       "      <th>sexo</th>\n",
       "      <th>edad</th>\n",
       "      <th>categoria</th>\n",
       "      <th>ganador</th>\n",
       "    </tr>\n",
       "  </thead>\n",
       "  <tbody>\n",
       "    <tr>\n",
       "      <th>955</th>\n",
       "      <td>8</td>\n",
       "      <td>1</td>\n",
       "      <td>Soldi de Mahmood</td>\n",
       "      <td>Jorge González</td>\n",
       "      <td>11</td>\n",
       "      <td>12</td>\n",
       "      <td>12</td>\n",
       "      <td>11</td>\n",
       "      <td>12</td>\n",
       "      <td>NaN</td>\n",
       "      <td>...</td>\n",
       "      <td>Soldi</td>\n",
       "      <td>Mahmood</td>\n",
       "      <td>NaN</td>\n",
       "      <td>España</td>\n",
       "      <td>Madrid</td>\n",
       "      <td>Villarejo de Salvanés</td>\n",
       "      <td>M</td>\n",
       "      <td>31</td>\n",
       "      <td>Cantante</td>\n",
       "      <td>0</td>\n",
       "    </tr>\n",
       "    <tr>\n",
       "      <th>956</th>\n",
       "      <td>8</td>\n",
       "      <td>2</td>\n",
       "      <td>En el último minuto de Miguel Poveda</td>\n",
       "      <td>Jorge González</td>\n",
       "      <td>6</td>\n",
       "      <td>11</td>\n",
       "      <td>10</td>\n",
       "      <td>4</td>\n",
       "      <td>11</td>\n",
       "      <td>NaN</td>\n",
       "      <td>...</td>\n",
       "      <td>En el último minuto</td>\n",
       "      <td>Miguel Poveda</td>\n",
       "      <td>NaN</td>\n",
       "      <td>España</td>\n",
       "      <td>Madrid</td>\n",
       "      <td>Villarejo de Salvanés</td>\n",
       "      <td>M</td>\n",
       "      <td>31</td>\n",
       "      <td>Cantante</td>\n",
       "      <td>0</td>\n",
       "    </tr>\n",
       "    <tr>\n",
       "      <th>957</th>\n",
       "      <td>8</td>\n",
       "      <td>3</td>\n",
       "      <td>Mariana mambo de Chayanne</td>\n",
       "      <td>Jorge González</td>\n",
       "      <td>9</td>\n",
       "      <td>11</td>\n",
       "      <td>10</td>\n",
       "      <td>11</td>\n",
       "      <td>10</td>\n",
       "      <td>NaN</td>\n",
       "      <td>...</td>\n",
       "      <td>Mariana mambo</td>\n",
       "      <td>Chayanne</td>\n",
       "      <td>NaN</td>\n",
       "      <td>España</td>\n",
       "      <td>Madrid</td>\n",
       "      <td>Villarejo de Salvanés</td>\n",
       "      <td>M</td>\n",
       "      <td>31</td>\n",
       "      <td>Cantante</td>\n",
       "      <td>0</td>\n",
       "    </tr>\n",
       "    <tr>\n",
       "      <th>958</th>\n",
       "      <td>8</td>\n",
       "      <td>4</td>\n",
       "      <td>Relax, Take It Easy de Mika</td>\n",
       "      <td>Jorge González</td>\n",
       "      <td>9</td>\n",
       "      <td>9</td>\n",
       "      <td>8</td>\n",
       "      <td>9</td>\n",
       "      <td>6</td>\n",
       "      <td>NaN</td>\n",
       "      <td>...</td>\n",
       "      <td>Relax, Take It Easy</td>\n",
       "      <td>Mika</td>\n",
       "      <td>NaN</td>\n",
       "      <td>España</td>\n",
       "      <td>Madrid</td>\n",
       "      <td>Villarejo de Salvanés</td>\n",
       "      <td>M</td>\n",
       "      <td>31</td>\n",
       "      <td>Cantante</td>\n",
       "      <td>0</td>\n",
       "    </tr>\n",
       "    <tr>\n",
       "      <th>959</th>\n",
       "      <td>8</td>\n",
       "      <td>5</td>\n",
       "      <td>No me des guerra de Bambino</td>\n",
       "      <td>Jorge González</td>\n",
       "      <td>10</td>\n",
       "      <td>11</td>\n",
       "      <td>11</td>\n",
       "      <td>10</td>\n",
       "      <td>11</td>\n",
       "      <td>NaN</td>\n",
       "      <td>...</td>\n",
       "      <td>No me des guerra</td>\n",
       "      <td>Bambino</td>\n",
       "      <td>NaN</td>\n",
       "      <td>España</td>\n",
       "      <td>Madrid</td>\n",
       "      <td>Villarejo de Salvanés</td>\n",
       "      <td>M</td>\n",
       "      <td>31</td>\n",
       "      <td>Cantante</td>\n",
       "      <td>0</td>\n",
       "    </tr>\n",
       "    <tr>\n",
       "      <th>...</th>\n",
       "      <td>...</td>\n",
       "      <td>...</td>\n",
       "      <td>...</td>\n",
       "      <td>...</td>\n",
       "      <td>...</td>\n",
       "      <td>...</td>\n",
       "      <td>...</td>\n",
       "      <td>...</td>\n",
       "      <td>...</td>\n",
       "      <td>...</td>\n",
       "      <td>...</td>\n",
       "      <td>...</td>\n",
       "      <td>...</td>\n",
       "      <td>...</td>\n",
       "      <td>...</td>\n",
       "      <td>...</td>\n",
       "      <td>...</td>\n",
       "      <td>...</td>\n",
       "      <td>...</td>\n",
       "      <td>...</td>\n",
       "      <td>...</td>\n",
       "    </tr>\n",
       "    <tr>\n",
       "      <th>1049</th>\n",
       "      <td>8</td>\n",
       "      <td>7</td>\n",
       "      <td>Dance Monkey de Tones and I</td>\n",
       "      <td>Belinda Washington</td>\n",
       "      <td>12</td>\n",
       "      <td>12</td>\n",
       "      <td>12</td>\n",
       "      <td>12</td>\n",
       "      <td>12</td>\n",
       "      <td>NaN</td>\n",
       "      <td>...</td>\n",
       "      <td>Dance Monkey</td>\n",
       "      <td>Tones and I</td>\n",
       "      <td>NaN</td>\n",
       "      <td>España</td>\n",
       "      <td>Madrid</td>\n",
       "      <td>Altrincham</td>\n",
       "      <td>F</td>\n",
       "      <td>56</td>\n",
       "      <td>TV</td>\n",
       "      <td>0</td>\n",
       "    </tr>\n",
       "    <tr>\n",
       "      <th>1050</th>\n",
       "      <td>8</td>\n",
       "      <td>8</td>\n",
       "      <td>The Shoop Shoop Song (It's in His Kiss) de Che...</td>\n",
       "      <td>Belinda Washington</td>\n",
       "      <td>7</td>\n",
       "      <td>0</td>\n",
       "      <td>8</td>\n",
       "      <td>10</td>\n",
       "      <td>9</td>\n",
       "      <td>NaN</td>\n",
       "      <td>...</td>\n",
       "      <td>The Shoop Shoop Song (It's in His Kiss)</td>\n",
       "      <td>Cher (Sorpresa ¡Sorpresa!)</td>\n",
       "      <td>Sorpresa</td>\n",
       "      <td>España</td>\n",
       "      <td>Madrid</td>\n",
       "      <td>Altrincham</td>\n",
       "      <td>F</td>\n",
       "      <td>56</td>\n",
       "      <td>TV</td>\n",
       "      <td>0</td>\n",
       "    </tr>\n",
       "    <tr>\n",
       "      <th>1051</th>\n",
       "      <td>8</td>\n",
       "      <td>9</td>\n",
       "      <td>Human de Rag'n'Bone Man</td>\n",
       "      <td>Belinda Washington</td>\n",
       "      <td>9</td>\n",
       "      <td>9</td>\n",
       "      <td>8</td>\n",
       "      <td>11</td>\n",
       "      <td>12</td>\n",
       "      <td>NaN</td>\n",
       "      <td>...</td>\n",
       "      <td>Human</td>\n",
       "      <td>Rag'n'Bone Man</td>\n",
       "      <td>NaN</td>\n",
       "      <td>España</td>\n",
       "      <td>Madrid</td>\n",
       "      <td>Altrincham</td>\n",
       "      <td>F</td>\n",
       "      <td>56</td>\n",
       "      <td>TV</td>\n",
       "      <td>0</td>\n",
       "    </tr>\n",
       "    <tr>\n",
       "      <th>1052</th>\n",
       "      <td>8</td>\n",
       "      <td>10</td>\n",
       "      <td>Gigi l'amoroso de Dalida</td>\n",
       "      <td>Belinda Washington</td>\n",
       "      <td>6</td>\n",
       "      <td>4</td>\n",
       "      <td>4</td>\n",
       "      <td>4</td>\n",
       "      <td>6</td>\n",
       "      <td>NaN</td>\n",
       "      <td>...</td>\n",
       "      <td>Gigi l'amoroso</td>\n",
       "      <td>Dalida</td>\n",
       "      <td>NaN</td>\n",
       "      <td>España</td>\n",
       "      <td>Madrid</td>\n",
       "      <td>Altrincham</td>\n",
       "      <td>F</td>\n",
       "      <td>56</td>\n",
       "      <td>TV</td>\n",
       "      <td>0</td>\n",
       "    </tr>\n",
       "    <tr>\n",
       "      <th>1053</th>\n",
       "      <td>8</td>\n",
       "      <td>11</td>\n",
       "      <td>L.O.V.E de Natalie Cole</td>\n",
       "      <td>Belinda Washington</td>\n",
       "      <td>5</td>\n",
       "      <td>5</td>\n",
       "      <td>5</td>\n",
       "      <td>7</td>\n",
       "      <td>10</td>\n",
       "      <td>NaN</td>\n",
       "      <td>...</td>\n",
       "      <td>L.O.V.E</td>\n",
       "      <td>Natalie Cole</td>\n",
       "      <td>NaN</td>\n",
       "      <td>España</td>\n",
       "      <td>Madrid</td>\n",
       "      <td>Altrincham</td>\n",
       "      <td>F</td>\n",
       "      <td>56</td>\n",
       "      <td>TV</td>\n",
       "      <td>0</td>\n",
       "    </tr>\n",
       "  </tbody>\n",
       "</table>\n",
       "<p>99 rows × 23 columns</p>\n",
       "</div>"
      ],
      "text/plain": [
       "      temporada  programa                                            cancion  \\\n",
       "955           8         1                                   Soldi de Mahmood   \n",
       "956           8         2               En el último minuto de Miguel Poveda   \n",
       "957           8         3                          Mariana mambo de Chayanne   \n",
       "958           8         4                        Relax, Take It Easy de Mika   \n",
       "959           8         5                        No me des guerra de Bambino   \n",
       "...         ...       ...                                                ...   \n",
       "1049          8         7                        Dance Monkey de Tones and I   \n",
       "1050          8         8  The Shoop Shoop Song (It's in His Kiss) de Che...   \n",
       "1051          8         9                            Human de Rag'n'Bone Man   \n",
       "1052          8        10                           Gigi l'amoroso de Dalida   \n",
       "1053          8        11                            L.O.V.E de Natalie Cole   \n",
       "\n",
       "                 artista  j1  j2  j3  j4  publico bonus  ...  \\\n",
       "955       Jorge González  11  12  12  11       12   NaN  ...   \n",
       "956       Jorge González   6  11  10   4       11   NaN  ...   \n",
       "957       Jorge González   9  11  10  11       10   NaN  ...   \n",
       "958       Jorge González   9   9   8   9        6   NaN  ...   \n",
       "959       Jorge González  10  11  11  10       11   NaN  ...   \n",
       "...                  ...  ..  ..  ..  ..      ...   ...  ...   \n",
       "1049  Belinda Washington  12  12  12  12       12   NaN  ...   \n",
       "1050  Belinda Washington   7   0   8  10        9   NaN  ...   \n",
       "1051  Belinda Washington   9   9   8  11       12   NaN  ...   \n",
       "1052  Belinda Washington   6   4   4   4        6   NaN  ...   \n",
       "1053  Belinda Washington   5   5   5   7       10   NaN  ...   \n",
       "\n",
       "                                       titulo                       autor  \\\n",
       "955                                     Soldi                     Mahmood   \n",
       "956                       En el último minuto               Miguel Poveda   \n",
       "957                             Mariana mambo                    Chayanne   \n",
       "958                       Relax, Take It Easy                        Mika   \n",
       "959                          No me des guerra                     Bambino   \n",
       "...                                       ...                         ...   \n",
       "1049                             Dance Monkey                 Tones and I   \n",
       "1050  The Shoop Shoop Song (It's in His Kiss)  Cher (Sorpresa ¡Sorpresa!)   \n",
       "1051                                    Human              Rag'n'Bone Man   \n",
       "1052                           Gigi l'amoroso                      Dalida   \n",
       "1053                                  L.O.V.E                Natalie Cole   \n",
       "\n",
       "      especiales    pais  region                 ciudad sexo edad categoria  \\\n",
       "955          NaN  España  Madrid  Villarejo de Salvanés    M   31  Cantante   \n",
       "956          NaN  España  Madrid  Villarejo de Salvanés    M   31  Cantante   \n",
       "957          NaN  España  Madrid  Villarejo de Salvanés    M   31  Cantante   \n",
       "958          NaN  España  Madrid  Villarejo de Salvanés    M   31  Cantante   \n",
       "959          NaN  España  Madrid  Villarejo de Salvanés    M   31  Cantante   \n",
       "...          ...     ...     ...                    ...  ...  ...       ...   \n",
       "1049         NaN  España  Madrid             Altrincham    F   56        TV   \n",
       "1050    Sorpresa  España  Madrid             Altrincham    F   56        TV   \n",
       "1051         NaN  España  Madrid             Altrincham    F   56        TV   \n",
       "1052         NaN  España  Madrid             Altrincham    F   56        TV   \n",
       "1053         NaN  España  Madrid             Altrincham    F   56        TV   \n",
       "\n",
       "     ganador  \n",
       "955        0  \n",
       "956        0  \n",
       "957        0  \n",
       "958        0  \n",
       "959        0  \n",
       "...      ...  \n",
       "1049       0  \n",
       "1050       0  \n",
       "1051       0  \n",
       "1052       0  \n",
       "1053       0  \n",
       "\n",
       "[99 rows x 23 columns]"
      ]
     },
     "execution_count": 79,
     "metadata": {},
     "output_type": "execute_result"
    }
   ],
   "source": [
    "tcms[tcms.temporada == 8]"
   ]
  },
  {
   "cell_type": "code",
   "execution_count": null,
   "metadata": {},
   "outputs": [],
   "source": []
  }
 ],
 "metadata": {
  "kernelspec": {
   "display_name": "Ironhack",
   "language": "python",
   "name": "ironhack"
  },
  "language_info": {
   "codemirror_mode": {
    "name": "ipython",
    "version": 3
   },
   "file_extension": ".py",
   "mimetype": "text/x-python",
   "name": "python",
   "nbconvert_exporter": "python",
   "pygments_lexer": "ipython3",
   "version": "3.7.5"
  }
 },
 "nbformat": 4,
 "nbformat_minor": 4
}
